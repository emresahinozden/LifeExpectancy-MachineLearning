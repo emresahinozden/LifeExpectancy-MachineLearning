{
 "cells": [
  {
   "cell_type": "markdown",
   "metadata": {},
   "source": [
    "# Importing the data, renaming and retyping the columns\n",
    "# Merging the data with life expectancy classes"
   ]
  },
  {
   "cell_type": "code",
   "execution_count": 10,
   "metadata": {},
   "outputs": [],
   "source": [
    "import pandas as pd\n",
    "pd.options.mode.chained_assignment = None\n",
    "data = pd.read_csv(\"data.csv\") \n",
    "\n",
    "columns = list(data.columns)\n",
    "columns[3] = \"Area\"\n",
    "columns[4] = \"Population Density\"\n",
    "columns[5] = \"Coastline\"\n",
    "columns[7] = \"Infant Mortality\"\n",
    "columns[8] = \"GDP per Capita\"\n",
    "columns[9] = \"Literacy\"\n",
    "columns[10] = \"Phones\"\n",
    "columns[11] = \"Arable\"\n",
    "columns[12] = \"Crops\"\n",
    "columns[13] = \"Other\"\n",
    "\n",
    "data.columns = columns\n",
    "data.iloc[:,0] = data.iloc[:,0].str.strip()\n",
    "data.iloc[:,0] = data.iloc[:,0].astype('category')\n",
    "data.iloc[:,1] = data.iloc[:,1].astype('category')\n",
    "data.iloc[:,4] = data.iloc[:,4].str.replace(\",\",\".\").astype(float)\n",
    "data.iloc[:,5] = data.iloc[:,5].str.replace(\",\",\".\").astype(float)\n",
    "data.iloc[:,6] = data.iloc[:,6].str.replace(\",\",\".\").astype(float)\n",
    "data.iloc[:,7] = data.iloc[:,7].str.replace(\",\",\".\").astype(float)\n",
    "data.iloc[:,9] = data.iloc[:,9].str.replace(\",\",\".\").astype(float)\n",
    "data.iloc[:,10] = data.iloc[:,10].str.replace(\",\",\".\").astype(float)\n",
    "data.iloc[:,11] = data.iloc[:,11].str.replace(\",\",\".\").astype(float)\n",
    "data.iloc[:,12] = data.iloc[:,12].str.replace(\",\",\".\").astype(float)\n",
    "data.iloc[:,13] = data.iloc[:,13].str.replace(\",\",\".\").astype(float)\n",
    "data.iloc[:,14] = data.iloc[:,14].str.replace(\",\",\".\").astype(float)\n",
    "data.iloc[:,15] = data.iloc[:,15].str.replace(\",\",\".\").astype(float)\n",
    "data.iloc[:,16] = data.iloc[:,16].str.replace(\",\",\".\").astype(float)\n",
    "data.iloc[:,17] = data.iloc[:,17].str.replace(\",\",\".\").astype(float)\n",
    "data.iloc[:,18] = data.iloc[:,18].str.replace(\",\",\".\").astype(float)\n",
    "data.iloc[:,19] = data.iloc[:,19].str.replace(\",\",\".\").astype(float)\n",
    "\n",
    "life = pd.read_csv(\"life.csv\", encoding='latin-1') \n",
    "life.iloc[:,0] = life.iloc[:,0].astype('category')\n",
    "data = pd.merge(data, life, how='left', on=\"Country\") \n",
    "del life"
   ]
  },
  {
   "cell_type": "markdown",
   "metadata": {},
   "source": [
    "# Dealing with the missing values"
   ]
  },
  {
   "cell_type": "code",
   "execution_count": 11,
   "metadata": {},
   "outputs": [],
   "source": [
    "for col in data.columns.values:\n",
    "    if data[col].isnull().sum() == 0:\n",
    "        continue\n",
    "    if col == \"Climate\":\n",
    "        value = data.groupby(\"Region\")[\"Climate\"].apply(lambda x: x.mode().max())\n",
    "    elif col == \"Life\":\n",
    "        value = data.groupby(\"Region\")[\"Life\"].apply(lambda x: x.mode().max())\n",
    "    else:\n",
    "        value = data.groupby(\"Region\")[col].median()\n",
    "    for region in data[\"Region\"].unique():\n",
    "        data[col].loc[(data[col].isnull())&(data[\"Region\"]==region)] = value[region]\n",
    "        \n",
    "data.drop(\"Country\", axis=1, inplace=True)            \n",
    "\n",
    "data.to_csv(\"data2.csv\",index=False)\n",
    "# =============================================================================\n",
    "del region, value, data, col, columns"
   ]
  }
 ],
 "metadata": {
  "kernelspec": {
   "display_name": "Python 3",
   "language": "python",
   "name": "python3"
  },
  "language_info": {
   "codemirror_mode": {
    "name": "ipython",
    "version": 3
   },
   "file_extension": ".py",
   "mimetype": "text/x-python",
   "name": "python",
   "nbconvert_exporter": "python",
   "pygments_lexer": "ipython3",
   "version": "3.6.3"
  }
 },
 "nbformat": 4,
 "nbformat_minor": 2
}
