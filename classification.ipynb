{
 "cells": [
  {
   "cell_type": "markdown",
   "metadata": {},
   "source": [
    "# Importing the libraries needed"
   ]
  },
  {
   "cell_type": "code",
   "execution_count": 9,
   "metadata": {
    "collapsed": true
   },
   "outputs": [],
   "source": [
    "import pandas as pd\n",
    "import numpy as np\n",
    "import matplotlib.pyplot as plt\n",
    "from sklearn.model_selection import train_test_split\n",
    "from sklearn.svm import SVC\n",
    "from sklearn.feature_selection import RFECV \n",
    "from sklearn.model_selection import GridSearchCV\n",
    "from sklearn.metrics import accuracy_score\n",
    "from sklearn.preprocessing import LabelEncoder, OneHotEncoder "
   ]
  },
  {
   "cell_type": "markdown",
   "metadata": {},
   "source": [
    "# Getting the data, splitting it into dependent and independent variables"
   ]
  },
  {
   "cell_type": "code",
   "execution_count": 10,
   "metadata": {
    "collapsed": true
   },
   "outputs": [],
   "source": [
    "data = pd.read_csv(\"data2.csv\") \n",
    "data.drop(\"GDP per Capita\", axis=1, inplace=True)  \n",
    "X = data.iloc[:,0:-2]\n",
    "y = data.iloc[:,-2]\n",
    "del data"
   ]
  },
  {
   "cell_type": "markdown",
   "metadata": {},
   "source": [
    "# Dummy coding the categorical variables"
   ]
  },
  {
   "cell_type": "code",
   "execution_count": 11,
   "metadata": {
    "collapsed": true
   },
   "outputs": [],
   "source": [
    "labelencoder = LabelEncoder()\n",
    "X.iloc[:,0] = labelencoder.fit_transform(X.iloc[:,0]) \n",
    "onehotencoder = OneHotEncoder(categorical_features=[0]) \n",
    "X = onehotencoder.fit_transform(X).toarray()\n",
    "X  = np.delete(X,[0],1)"
   ]
  },
  {
   "cell_type": "markdown",
   "metadata": {},
   "source": [
    "# Normalization of the variables"
   ]
  },
  {
   "cell_type": "code",
   "execution_count": 12,
   "metadata": {
    "collapsed": true
   },
   "outputs": [],
   "source": [
    "for i in range(0,len(X[0])):\n",
    "    X[:,i] = (X[:,i] - min(X[:,i])) / (max(X[:,i]) - min(X[:,i]))    \n",
    "del i"
   ]
  },
  {
   "cell_type": "markdown",
   "metadata": {},
   "source": [
    "# Feature selection according to their importance\n",
    "# All features are selected as important, none is dropped"
   ]
  },
  {
   "cell_type": "code",
   "execution_count": 13,
   "metadata": {},
   "outputs": [
    {
     "name": "stdout",
     "output_type": "stream",
     "text": [
      "27\n"
     ]
    }
   ],
   "source": [
    "X_train, X_test, y_train, y_test = train_test_split(X,y, test_size=0.25, stratify=y)\n",
    "\n",
    "model = SVC(kernel=\"linear\")\n",
    "selector = RFECV(estimator=model,step=1,cv=20)\n",
    "selector = selector.fit(X_train, y_train)\n",
    "print(len(selector.ranking_))"
   ]
  },
  {
   "cell_type": "markdown",
   "metadata": {},
   "source": [
    "# Gridsearch on SVM to find the optimum hyper-parameters\n",
    "# Predict on test set with the hyper-parameters selected"
   ]
  },
  {
   "cell_type": "code",
   "execution_count": 14,
   "metadata": {},
   "outputs": [
    {
     "name": "stdout",
     "output_type": "stream",
     "text": [
      "The optimum C value and kernel is  {'C': 3.7926901907322499, 'kernel': 'linear'}\n",
      "\n",
      "0.947368421053\n"
     ]
    }
   ],
   "source": [
    "SVMmodel = SVC(kernel=\"linear\")\n",
    "SVMmodel.fit(X_train,y_train)\n",
    "\n",
    "parameters = [ {\"C\":list(np.logspace(-1,1,20)), \"kernel\":[\"linear\"]},\n",
    "               {\"C\":list(np.logspace(-1,1,20)), \"kernel\":[\"rbf\"], \"gamma\":list(np.logspace(-3,1,20))} ]\n",
    "\n",
    "search = GridSearchCV(estimator = SVMmodel, \n",
    "                      param_grid= parameters, \n",
    "                      scoring = \"accuracy\",\n",
    "                      cv = 10)\n",
    "search = search.fit(X_train,y_train)\n",
    "print(\"The optimum C value and kernel is \", search.best_params_)\n",
    "y_pred = search.predict(X_test)\n",
    "print()\n",
    "print(accuracy_score(y_test, y_pred))"
   ]
  },
  {
   "cell_type": "markdown",
   "metadata": {},
   "source": [
    "# Plotting Training and Test errors - C Value"
   ]
  },
  {
   "cell_type": "code",
   "execution_count": 15,
   "metadata": {},
   "outputs": [
    {
     "data": {
      "image/png": "[encoded data removed]",
      "text/plain": [
       "<matplotlib.figure.Figure at 0x27ba89db978>"
      ]
     },
     "metadata": {},
     "output_type": "display_data"
    }
   ],
   "source": [
    "X_train, X_test, y_train, y_test = train_test_split(X,y, random_state=0, test_size=0.25)\n",
    "Clist = np.logspace(-1,1,20)\n",
    "train_errors = list()\n",
    "test_errors = list()\n",
    "for C in Clist:\n",
    "    SVMmodel = SVC(C = C, kernel=\"linear\", random_state = 109)\n",
    "    SVMmodel.fit(X_train,y_train)\n",
    "    train_errors.append(1-SVMmodel.score(X_train, y_train))\n",
    "    test_errors.append(1-SVMmodel.score(X_test, y_test))    \n",
    "\n",
    "plt.plot(Clist,train_errors) \n",
    "plt.plot(Clist,test_errors)\n",
    "plt.title(\"C values - Errors\")\n",
    "plt.legend([\"Training\", \"Test\"], loc='upper left')\n",
    "plt.show()"
   ]
  }
 ],
 "metadata": {
  "kernelspec": {
   "display_name": "Python 3",
   "language": "python",
   "name": "python3"
  },
  "language_info": {
   "codemirror_mode": {
    "name": "ipython",
    "version": 3
   },
   "file_extension": ".py",
   "mimetype": "text/x-python",
   "name": "python",
   "nbconvert_exporter": "python",
   "pygments_lexer": "ipython3",
   "version": "3.6.3"
  }
 },
 "nbformat": 4,
 "nbformat_minor": 2
}
